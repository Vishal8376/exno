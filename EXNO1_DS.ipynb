{
  "cells": [
    {
      "cell_type": "code",
      "execution_count": 1,
      "metadata": {
        "id": "2n5hINjQjg0I"
      },
      "outputs": [],
      "source": [
        "import pandas as pd"
      ]
    },
    {
      "cell_type": "code",
      "execution_count": null,
      "metadata": {
        "id": "ekd2--UNjzBH"
      },
      "outputs": [],
      "source": [
        "#READ CSV FILE HERE\n"
      ]
    },
    {
      "cell_type": "code",
      "execution_count": null,
      "metadata": {
        "id": "aO664SaXj_Kh"
      },
      "outputs": [],
      "source": [
        "#DISPLAY THE INFORMATION ABOUT CSV AND RUN THE BASIC DATA ANALYSIS FUNCTIONS"
      ]
    },
    {
      "cell_type": "code",
      "execution_count": null,
      "metadata": {
        "id": "TEJVe1oJkTOn"
      },
      "outputs": [],
      "source": [
        "#CHECK OUT NULL VALUES IN DATA SET USING FUNCTION"
      ]
    },
    {
      "cell_type": "code",
      "execution_count": null,
      "metadata": {
        "id": "lrWtOZnOkbLw"
      },
      "outputs": [],
      "source": [
        "#DISPLAY THE SUM ON NULL VALUES IN EACH ROWS"
      ]
    },
    {
      "cell_type": "code",
      "execution_count": null,
      "metadata": {
        "id": "x6UvnVeqk-FU"
      },
      "outputs": [],
      "source": [
        "#DROP NULL VALUES"
      ]
    },
    {
      "cell_type": "code",
      "execution_count": null,
      "metadata": {
        "id": "uD30INvylADq"
      },
      "outputs": [],
      "source": [
        "#FILL NULL VALUES WITH CONSTANT VALUE \"O\""
      ]
    },
    {
      "cell_type": "code",
      "execution_count": null,
      "metadata": {
        "id": "ElyTR_kMlKN_"
      },
      "outputs": [],
      "source": [
        "#FILL NULL VALUES WITH ffill or bfill METHOD"
      ]
    },
    {
      "cell_type": "code",
      "execution_count": null,
      "metadata": {
        "id": "J3j5JMTPlpMs"
      },
      "outputs": [],
      "source": [
        "#CALCULATE MEAN VALUE OF A COLUMN AND FILL IT WITH NULL VALUES"
      ]
    },
    {
      "cell_type": "code",
      "execution_count": null,
      "metadata": {
        "id": "DDfELIRflWsN"
      },
      "outputs": [],
      "source": [
        "#DROP NULL VALUES"
      ]
    },
    {
      "cell_type": "code",
      "execution_count": null,
      "metadata": {
        "id": "iSh4e4qhlxKX"
      },
      "outputs": [],
      "source": [
        "import pandas as pd\n",
        "import seaborn as sns"
      ]
    },
    {
      "cell_type": "code",
      "execution_count": null,
      "metadata": {
        "id": "06nuEZyumfvO"
      },
      "outputs": [],
      "source": [
        "age=[1,3,28,27,25,92,30,39,40,50,26,24,29,94]\n",
        "af=pd.DataFrame(age)\n",
        "af"
      ]
    },
    {
      "cell_type": "code",
      "execution_count": null,
      "metadata": {
        "id": "WjmFpMJOmkcg"
      },
      "outputs": [],
      "source": [
        "#USE BOXPLOT FUNCTION HERE TO DETECT OUTLIER\n"
      ]
    },
    {
      "cell_type": "code",
      "execution_count": null,
      "metadata": {
        "id": "ORTl2Iv5muIV"
      },
      "outputs": [],
      "source": [
        "#PERFORM IQR METHOD AND DETECT OUTLIER VALUES"
      ]
    },
    {
      "cell_type": "code",
      "execution_count": null,
      "metadata": {
        "id": "wGJfyBhQm1_C"
      },
      "outputs": [],
      "source": [
        "#REMOVE OUTLIERS"
      ]
    },
    {
      "cell_type": "code",
      "execution_count": null,
      "metadata": {
        "id": "uo-X2gZ9nCXz"
      },
      "outputs": [],
      "source": [
        "#USE BOXPLOT FUNCTION HERE TO CHECK OUTLIER IS REMOVED"
      ]
    },
    {
      "cell_type": "code",
      "execution_count": null,
      "metadata": {
        "id": "0Qs-5pjBnstE"
      },
      "outputs": [],
      "source": [
        "from scipy import stats #STATS METHOD IS USED TO IMPLEMENT Z SCORE METHOD"
      ]
    },
    {
      "cell_type": "code",
      "execution_count": null,
      "metadata": {
        "id": "hfmvZRVEnOJ4"
      },
      "outputs": [],
      "source": [
        "data=[1,12,15,18,21,24,27,30,33,36,39,42,45,48,51,54,57,60,63,66,69,72,75,78,81,84,87,90,93,96,99,158]\n",
        "df=pd.DataFrame(data)"
      ]
    },
    {
      "cell_type": "code",
      "execution_count": null,
      "metadata": {
        "id": "pdGFPLTTnOvd"
      },
      "outputs": [],
      "source": [
        "#USE BOXPLOT FUNCTION HERE TO DETECT OUTLIER"
      ]
    },
    {
      "cell_type": "code",
      "execution_count": null,
      "metadata": {
        "id": "-11Af00_nTT-"
      },
      "outputs": [],
      "source": [
        "#PERFORM Z SCORE METHOD AND DETECT OUTLIER VALUES"
      ]
    },
    {
      "cell_type": "code",
      "execution_count": null,
      "metadata": {
        "id": "1XlGC0YZnWth"
      },
      "outputs": [],
      "source": [
        "#REMOVE OUTLIERS"
      ]
    },
    {
      "cell_type": "code",
      "execution_count": null,
      "metadata": {
        "id": "xHlAQ3O5ncsp"
      },
      "outputs": [],
      "source": [
        "#USE BOXPLOT FUNCTION HERE TO CHECK OUTLIER IS REMOVED"
      ]
    }
  ],
  "metadata": {
    "colab": {
      "provenance": []
    },
    "kernelspec": {
      "display_name": "Python 3",
      "name": "python3"
    },
    "language_info": {
      "name": "python"
    }
  },
  "nbformat": 4,
  "nbformat_minor": 0
}
